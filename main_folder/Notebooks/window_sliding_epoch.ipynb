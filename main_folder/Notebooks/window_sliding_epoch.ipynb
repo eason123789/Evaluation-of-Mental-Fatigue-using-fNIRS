{
 "cells": [
  {
   "cell_type": "markdown",
   "source": [
    "# Sliding epochs"
   ],
   "metadata": {
    "collapsed": false
   }
  },
  {
   "cell_type": "code",
   "execution_count": null,
   "outputs": [],
   "source": [
    "from gtheory import config as cf\n",
    "from glob import glob\n",
    "from gtheory.utils.misc import sort_path\n",
    "import mne\n",
    "from mne.preprocessing import compute_current_source_density\n",
    "from mne import read_epochs\n",
    "import matplotlib.pyplot as plt\n",
    "pt = cf.root_path ()"
   ],
   "metadata": {
    "collapsed": false,
    "pycharm": {
     "name": "#%%\n"
    }
   }
  },
  {
   "cell_type": "code",
   "execution_count": null,
   "outputs": [],
   "source": [
    "sbj1_path=sort_path(glob ( f\"{pt['dir_root']}/*/*/*.fif\" ))[0]\n",
    "epochs=read_epochs ( sbj1_path, preload=True )\n",
    "epochs.set_eeg_reference(projection=True).apply_proj()\n",
    "lambda2=1e-5\n",
    "stiffness=4\n",
    "epochs_csd=compute_current_source_density ( epochs, lambda2=lambda2, stiffness=stiffness )\n",
    "\n",
    "epoch_set=epochs_csd # shallow copy to respect def name"
   ],
   "metadata": {
    "collapsed": false,
    "pycharm": {
     "name": "#%%\n"
    }
   }
  },
  {
   "cell_type": "markdown",
   "source": [
    "Slide the epochs with windows size `overlap_window`"
   ],
   "metadata": {
    "collapsed": false,
    "pycharm": {
     "name": "#%% md\n"
    }
   }
  },
  {
   "cell_type": "code",
   "execution_count": null,
   "outputs": [],
   "source": [
    "import numpy as np\n",
    "duration=2 # in seconds\n",
    "\n",
    "ep_ls = []\n",
    "for epochs_data, t in zip ( epoch_set, epoch_set.events ):\n",
    "    ep = mne.make_fixed_length_epochs ( mne.io.RawArray ( epochs_data, epoch_set.info ),\n",
    "                                            duration=duration, preload=True, overlap=0 )\n",
    "    ep.events [:, -1] = np.arange ( 0, len ( ep ) ) + (251 if t [-1] == 1 else 252 * 10)\n",
    "    ep.info ['description'] = str ( t )\n",
    "    n=ep.events [:, -1].tolist()\n",
    "    ep.event_id = dict(zip(map(str,n),n))\n",
    "    ep_ls.append ( ep )"
   ],
   "metadata": {
    "collapsed": false,
    "pycharm": {
     "name": "#%%\n"
    }
   }
  },
  {
   "cell_type": "markdown",
   "source": [
    "Lets visualise the epoch arrangement"
   ],
   "metadata": {
    "collapsed": false,
    "pycharm": {
     "name": "#%% md\n"
    }
   }
  },
  {
   "cell_type": "code",
   "execution_count": null,
   "outputs": [],
   "source": [
    "epoch_set[0].plot(n_channels=2);"
   ],
   "metadata": {
    "collapsed": false,
    "pycharm": {
     "name": "#%%\n"
    }
   }
  },
  {
   "cell_type": "code",
   "execution_count": null,
   "outputs": [],
   "source": [
    "ep_ls[0].plot(n_channels=2);"
   ],
   "metadata": {
    "collapsed": false,
    "pycharm": {
     "name": "#%%\n"
    }
   }
  },
  {
   "cell_type": "markdown",
   "source": [
    "# sliding windows\n",
    "Let make an overlap sliding windows"
   ],
   "metadata": {
    "collapsed": false,
    "pycharm": {
     "name": "#%% md\n"
    }
   }
  },
  {
   "cell_type": "code",
   "execution_count": null,
   "outputs": [],
   "source": [
    "duration=4 # in seconds\n",
    "overlap=2\n",
    "ep_ls_overlap = []\n",
    "for epochs_data, t in zip ( epoch_set, epoch_set.events ):\n",
    "    ep = mne.make_fixed_length_epochs ( mne.io.RawArray ( epochs_data, epoch_set.info ),\n",
    "                                            duration=duration, preload=True, overlap=overlap )\n",
    "    ep.events [:, -1] = np.arange ( 0, len ( ep ) ) + (251 if t [-1] == 1 else 252 * 10)\n",
    "    ep.info ['description'] = str ( t )\n",
    "    n=ep.events [:, -1].tolist()\n",
    "    ep.event_id = dict(zip(map(str,n),n))\n",
    "    ep_ls_overlap.append ( ep )"
   ],
   "metadata": {
    "collapsed": false,
    "pycharm": {
     "name": "#%%\n"
    }
   }
  },
  {
   "cell_type": "markdown",
   "source": [
    "Lets visualise the epoch arrangment"
   ],
   "metadata": {
    "collapsed": false
   }
  },
  {
   "cell_type": "code",
   "execution_count": null,
   "outputs": [],
   "source": [
    "epoch_set[0].plot(n_channels=2,title='Original Epoch');"
   ],
   "metadata": {
    "collapsed": false,
    "pycharm": {
     "name": "#%%\n"
    }
   }
  },
  {
   "cell_type": "code",
   "execution_count": null,
   "outputs": [],
   "source": [
    "ep_ls_overlap[0].plot(n_channels=2,title='Overlap windows',show=False);"
   ],
   "metadata": {
    "collapsed": false,
    "pycharm": {
     "name": "#%%\n"
    }
   }
  }
 ],
 "metadata": {
  "kernelspec": {
   "display_name": "Python 3",
   "language": "python",
   "name": "python3"
  },
  "language_info": {
   "codemirror_mode": {
    "name": "ipython",
    "version": 2
   },
   "file_extension": ".py",
   "mimetype": "text/x-python",
   "name": "python",
   "nbconvert_exporter": "python",
   "pygments_lexer": "ipython2",
   "version": "2.7.6"
  }
 },
 "nbformat": 4,
 "nbformat_minor": 0
}